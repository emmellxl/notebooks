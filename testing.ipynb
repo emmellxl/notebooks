{
 "cells": [
  {
   "cell_type": "code",
   "execution_count": 2,
   "id": "5eef3662-098a-4c32-b182-0cff0d5398e6",
   "metadata": {},
   "outputs": [],
   "source": [
    "import arrow"
   ]
  },
  {
   "cell_type": "code",
   "execution_count": 3,
   "id": "2ee2b5e6-e67e-41a8-9dee-fd0d9000b3e5",
   "metadata": {},
   "outputs": [],
   "source": [
    "import scrapy"
   ]
  },
  {
   "cell_type": "code",
   "execution_count": 2,
   "id": "82212389-612c-4c9f-9cb6-0f8d2e3e774a",
   "metadata": {},
   "outputs": [],
   "source": [
    "import fastai"
   ]
  },
  {
   "cell_type": "code",
   "execution_count": 5,
   "id": "ef9caa10-1b42-401c-9567-a64e072d4558",
   "metadata": {},
   "outputs": [],
   "source": [
    "import torch"
   ]
  },
  {
   "cell_type": "code",
   "execution_count": 6,
   "id": "ccea9e94-6b46-4c01-9e1e-9ce7f841b98e",
   "metadata": {},
   "outputs": [],
   "source": [
    "import numpy"
   ]
  },
  {
   "cell_type": "code",
   "execution_count": 9,
   "id": "04e7d9de-2741-4fa4-aad5-6e3232847ebc",
   "metadata": {},
   "outputs": [],
   "source": [
    "import sklearn"
   ]
  },
  {
   "cell_type": "code",
   "execution_count": 10,
   "id": "ba02c49d-61c5-4816-9412-a28ebdeb20f3",
   "metadata": {},
   "outputs": [],
   "source": [
    "import scipy"
   ]
  },
  {
   "cell_type": "code",
   "execution_count": null,
   "id": "187ad509-bacc-485b-8753-e27913886d7d",
   "metadata": {},
   "outputs": [],
   "source": [
    "import matplot"
   ]
  }
 ],
 "metadata": {
  "kernelspec": {
   "display_name": "Python 3 (ipykernel)",
   "language": "python",
   "name": "python3"
  },
  "language_info": {
   "codemirror_mode": {
    "name": "ipython",
    "version": 3
   },
   "file_extension": ".py",
   "mimetype": "text/x-python",
   "name": "python",
   "nbconvert_exporter": "python",
   "pygments_lexer": "ipython3",
   "version": "3.9.10"
  }
 },
 "nbformat": 4,
 "nbformat_minor": 5
}
